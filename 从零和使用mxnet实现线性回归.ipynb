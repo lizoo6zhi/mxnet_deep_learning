{
 "cells": [
  {
   "cell_type": "markdown",
   "metadata": {},
   "source": [
    "# 线性回归从零实现"
   ]
  },
  {
   "cell_type": "code",
   "execution_count": 4,
   "metadata": {},
   "outputs": [],
   "source": [
    "from mxnet import ndarray as nd\n",
    "import matplotlib.pyplot as plt\n",
    "import numpy as np\n",
    "import time"
   ]
  },
  {
   "cell_type": "code",
   "execution_count": 5,
   "metadata": {},
   "outputs": [
    {
     "name": "stdout",
     "output_type": "stream",
     "text": [
      "(1000,)\n"
     ]
    }
   ],
   "source": [
    "num_inputs = 2\n",
    "num_examples = 1000\n",
    "w = [2,-3.4]\n",
    "b = 4.2\n",
    "\n",
    "x = nd.random.normal(scale=1,shape=(num_examples,num_inputs))\n",
    "y = nd.dot(x,nd.array(w).T) + b\n",
    "y += nd.random.normal(scale=0.01,shape=y.shape)\n",
    "print(y.shape)"
   ]
  },
  {
   "cell_type": "code",
   "execution_count": 6,
   "metadata": {},
   "outputs": [
    {
     "data": {
      "image/png": "[encoded data removed]",
      "text/plain": [
       "<Figure size 432x288 with 1 Axes>"
      ]
     },
     "metadata": {
      "needs_background": "light"
     },
     "output_type": "display_data"
    }
   ],
   "source": [
    "plt.scatter(x[:,1].asnumpy(),y.asnumpy())\n",
    "plt.show()"
   ]
  },
  {
   "cell_type": "code",
   "execution_count": 7,
   "metadata": {},
   "outputs": [],
   "source": [
    "class LinearRegressor:\n",
    "    def __init__(self,input_shape,output_shape):\n",
    "        self.input_shape = input_shape\n",
    "        self.output_shape = output_shape\n",
    "        self.weight = nd.random.normal(scale=0.01,shape=(input_shape,1))\n",
    "        self.bias = nd.zeros(shape=(1))\n",
    "\n",
    "    def fit(self,x,y,learning_rate,epoches,batch_size):\n",
    "        start = time.time()\n",
    "        for epoch in range(epoches):\n",
    "            for batch_data in self.batches(x,y,batch_size):\n",
    "                x_batch,y_batch = batch_data[0],batch_data[1]\n",
    "                y_hat = self.forward(x_batch)\n",
    "                loss = self.mse(y_batch,y_hat)\n",
    "                error = y_hat - y_batch.reshape(y_hat.shape)\n",
    "                self.optimizer(x_batch,error,learning_rate)\n",
    "            print('epoch:{},loss:{:.4f}'.format(epoch+1,self.mse(y,self.forward(x)).asscalar()))\n",
    "        print('weight:',self.weight)\n",
    "        print('bias:',self.bias)\n",
    "        print('time interval:{:.2f}'.format(time.time() - start))\n",
    "        \n",
    "    def forward(self,x):\n",
    "        return nd.dot(x,self.weight) + self.bias\n",
    "    \n",
    "    def mse(self,y,y_hat):\n",
    "        m = len(y)\n",
    "        mean_square = nd.sum((y - y_hat.reshape(y.shape)) ** 2) / (2 * m)\n",
    "        return mean_square\n",
    "    \n",
    "    def optimizer(self,x,error,learning_rate):\n",
    "        gradient = 1/len(x) * nd.dot(x.T,error)\n",
    "        self.weight = self.weight - learning_rate * gradient\n",
    "        self.bias = self.bias - learning_rate * error[0]\n",
    "        \n",
    "    def batches(self,x,y,batch_size):\n",
    "        nSamples = len(x)\n",
    "        nBatches = nSamples // batch_size \n",
    "        indexes = np.random.permutation(nSamples)\n",
    "        for i in range(nBatches):\n",
    "            yield (x[indexes[i*batch_size:(i+1)*batch_size]], y[indexes[i*batch_size:(i+1)*batch_size]])\n",
    "        "
   ]
  },
  {
   "cell_type": "code",
   "execution_count": 8,
   "metadata": {},
   "outputs": [
    {
     "name": "stdout",
     "output_type": "stream",
     "text": [
      "epoch:1,loss:5.7996\n",
      "epoch:2,loss:2.1903\n",
      "epoch:3,loss:0.9078\n",
      "epoch:4,loss:0.3178\n",
      "epoch:5,loss:0.0795\n",
      "epoch:6,loss:0.0204\n",
      "epoch:7,loss:0.0156\n",
      "epoch:8,loss:0.0068\n",
      "epoch:9,loss:0.0022\n",
      "epoch:10,loss:0.0009\n",
      "epoch:11,loss:0.0003\n",
      "epoch:12,loss:0.0001\n",
      "epoch:13,loss:0.0001\n",
      "epoch:14,loss:0.0001\n",
      "epoch:15,loss:0.0000\n",
      "epoch:16,loss:0.0000\n",
      "epoch:17,loss:0.0000\n",
      "epoch:18,loss:0.0001\n",
      "epoch:19,loss:0.0001\n",
      "epoch:20,loss:0.0001\n",
      "weight: \n",
      "[[ 1.999662]\n",
      " [-3.400079]]\n",
      "<NDArray 2x1 @cpu(0)>\n",
      "bias: \n",
      "[4.2030163]\n",
      "<NDArray 1 @cpu(0)>\n",
      "time interval:0.22\n"
     ]
    }
   ],
   "source": [
    "lr = LinearRegressor(input_shape=2,output_shape=1)\n",
    "lr.fit(x,y,learning_rate=0.1,epoches=20,batch_size=200)"
   ]
  },
  {
   "cell_type": "markdown",
   "metadata": {},
   "source": [
    "# 线性回归简洁实现"
   ]
  },
  {
   "cell_type": "code",
   "execution_count": 98,
   "metadata": {},
   "outputs": [
    {
     "name": "stdout",
     "output_type": "stream",
     "text": [
      "epoch:1,loss:5.7794\n",
      "epoch:2,loss:1.9934\n",
      "epoch:3,loss:0.6884\n",
      "epoch:4,loss:0.2381\n",
      "epoch:5,loss:0.0825\n",
      "epoch:6,loss:0.0286\n",
      "epoch:7,loss:0.0100\n",
      "epoch:8,loss:0.0035\n",
      "epoch:9,loss:0.0012\n",
      "epoch:10,loss:0.0005\n",
      "epoch:11,loss:0.0002\n",
      "epoch:12,loss:0.0001\n",
      "epoch:13,loss:0.0001\n",
      "epoch:14,loss:0.0001\n",
      "epoch:15,loss:0.0001\n",
      "epoch:16,loss:0.0000\n",
      "epoch:17,loss:0.0000\n",
      "epoch:18,loss:0.0000\n",
      "epoch:19,loss:0.0000\n",
      "epoch:20,loss:0.0000\n",
      "weight: \n",
      "[[ 1.9996439 -3.400059 ]]\n",
      "<NDArray 1x2 @cpu(0)>\n",
      "weight: \n",
      "[4.2002025]\n",
      "<NDArray 1 @cpu(0)>\n",
      "time interval:0.86\n"
     ]
    }
   ],
   "source": [
    "from mxnet import gluon\n",
    "from mxnet.gluon import loss as gloss\n",
    "from mxnet.gluon import data as gdata\n",
    "from mxnet.gluon import nn\n",
    "from mxnet import init,autograd\n",
    "\n",
    "# 定义模型\n",
    "net = nn.Sequential()\n",
    "net.add(nn.Dense(1))\n",
    "\n",
    "# 初始化模型参数\n",
    "net.initialize(init.Normal(sigma=0.01))\n",
    "\n",
    "# 定义损失函数\n",
    "loss = gloss.L2Loss()\n",
    "\n",
    "# 定义优化算法\n",
    "optimizer = gluon.Trainer(net.collect_params(), 'sgd',{'learning_rate':0.1})\n",
    "\n",
    "epoches = 20\n",
    "batch_size = 200\n",
    "\n",
    "# 获取批量数据\n",
    "dataset = gdata.ArrayDataset(x,y)\n",
    "data_iter = gdata.DataLoader(dataset,batch_size,shuffle=True)\n",
    "\n",
    "# 训练模型\n",
    "start = time.time()\n",
    "for epoch in range(epoches):\n",
    "    for batch_x,batch_y in data_iter:\n",
    "        with autograd.record():\n",
    "            l = loss(net(batch_x),batch_y)\n",
    "        l.backward()\n",
    "        optimizer.step(batch_size)\n",
    "    l = loss(net(x),y)\n",
    "    print('epoch:{},loss:{:.4f}'.format(epoch+1,l.mean().asscalar()))\n",
    "print('weight:',net[0].weight.data())\n",
    "print('weight:',net[0].bias.data())\n",
    "print('time interval:{:.2f}'.format(time.time() - start))"
   ]
  },
  {
   "cell_type": "markdown",
   "metadata": {},
   "source": [
    "# 附:mxnet中的损失函数核初始化方法"
   ]
  },
  {
   "cell_type": "markdown",
   "metadata": {},
   "source": [
    "- 损失函数\n",
    "\n",
    "__all__ = ['Loss', 'L2Loss', 'L1Loss',\n",
    "           'SigmoidBinaryCrossEntropyLoss', 'SigmoidBCELoss',\n",
    "           'SoftmaxCrossEntropyLoss', 'SoftmaxCELoss',\n",
    "           'KLDivLoss', 'CTCLoss', 'HuberLoss', 'HingeLoss',\n",
    "           'SquaredHingeLoss', 'LogisticLoss', 'TripletLoss', 'PoissonNLLLoss', 'CosineEmbeddingLoss']\n",
    "\n",
    "- 初始化方法\n",
    "\n",
    "['Zero', 'One', 'Constant', 'Uniform', 'Normal', 'Orthogonal','Xavier','MSRAPrelu','Bilinear','LSTMBias','DusedRNN']"
   ]
  }
 ],
 "metadata": {
  "kernelspec": {
   "display_name": "Python 3",
   "language": "python",
   "name": "python3"
  },
  "language_info": {
   "codemirror_mode": {
    "name": "ipython",
    "version": 3
   },
   "file_extension": ".py",
   "mimetype": "text/x-python",
   "name": "python",
   "nbconvert_exporter": "python",
   "pygments_lexer": "ipython3",
   "version": "3.6.7"
  },
  "toc": {
   "base_numbering": 1,
   "nav_menu": {},
   "number_sections": true,
   "sideBar": true,
   "skip_h1_title": false,
   "title_cell": "Table of Contents",
   "title_sidebar": "Contents",
   "toc_cell": false,
   "toc_position": {},
   "toc_section_display": true,
   "toc_window_display": true
  }
 },
 "nbformat": 4,
 "nbformat_minor": 2
}
